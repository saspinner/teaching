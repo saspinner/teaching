{
 "cells": [
  {
   "cell_type": "markdown",
   "id": "615323a8-a76f-4f01-8ad3-9aa18eb98dc0",
   "metadata": {},
   "source": [
    "# Python Data Types\n",
    "\n",
    "## Numbers: \n",
    "good for math\n",
    "\n",
    "## Strings: \n",
    "text, enclosed in quotation marks\n",
    "\n",
    "## Lists:\n",
    "\n",
    "1) store an ordered, indexed collection of data.\n",
    "\n",
    "2) mutable: the number of elements in the list and what's stored in each element can change\n",
    "\n",
    "3) enclosed in square brackets and items are separated by commas\n",
    " \n",
    "\n",
    "## Dictionaries:\n",
    "\n",
    "1) Dictionaries are good for storing data that can be represented as a two-column table.\n",
    "\n",
    "2) They store unordered collections of key/value pairs.\n",
    "\n",
    "3) A dictionary is enclosed in curly braces, and sets of Key/Value pairs are separated by commas\n",
    "\n",
    "4) A colon is written between each key and value. Commas separate key:value pairs.\n",
    "\n"
   ]
  },
  {
   "cell_type": "markdown",
   "id": "26b28d96-971c-4c25-8fd5-0ed99e4b4beb",
   "metadata": {},
   "source": [
    "# Numbers"
   ]
  },
  {
   "cell_type": "code",
   "execution_count": null,
   "id": "9ce3e975-4148-4104-a95c-aa4afdb587e4",
   "metadata": {},
   "outputs": [],
   "source": [
    "# Numbers Examples\n"
   ]
  },
  {
   "cell_type": "code",
   "execution_count": null,
   "id": "505c19e7-04ed-4fe4-98e6-3e2cf23efff6",
   "metadata": {},
   "outputs": [],
   "source": [
    "# add subtract exponent\n"
   ]
  },
  {
   "cell_type": "code",
   "execution_count": null,
   "id": "87607db8-6f2e-486d-9448-e8c8928d5fcf",
   "metadata": {},
   "outputs": [],
   "source": [
    "# Division\n"
   ]
  },
  {
   "cell_type": "code",
   "execution_count": null,
   "id": "ca9522ee-bf0a-4181-a02b-7549ac5cd823",
   "metadata": {},
   "outputs": [],
   "source": [
    "# How many plates do I need?\n",
    "samples = \n",
    "full_plate = \n"
   ]
  },
  {
   "cell_type": "code",
   "execution_count": null,
   "id": "21332e7c-7e23-4af6-835b-b6b27cae9801",
   "metadata": {},
   "outputs": [],
   "source": [
    "# Modulus (divides left operand by right operand and returns the remainder)\n",
    "## this remainder\n"
   ]
  },
  {
   "cell_type": "code",
   "execution_count": null,
   "id": "5f5c7294-d529-48e9-b12b-832ec5aba254",
   "metadata": {},
   "outputs": [],
   "source": [
    "# Floor Division (result is the quotient with digits after the decimal point removed)\n"
   ]
  },
  {
   "cell_type": "code",
   "execution_count": null,
   "id": "18722e15-b108-402b-bac5-bc80dd32fee7",
   "metadata": {},
   "outputs": [],
   "source": [
    "# How many plates do I need?\n"
   ]
  },
  {
   "cell_type": "code",
   "execution_count": null,
   "id": "f387f89d-ca96-4e7c-8be5-7c2329b7c691",
   "metadata": {},
   "outputs": [],
   "source": []
  },
  {
   "cell_type": "markdown",
   "id": "d7234ffb-fc33-4307-94b8-0abb9224a90a",
   "metadata": {},
   "source": [
    "# Strings\n",
    "## Examples"
   ]
  },
  {
   "cell_type": "code",
   "execution_count": null,
   "id": "1d1cb7aa-0e91-441f-8b56-78cc8cc06fc3",
   "metadata": {},
   "outputs": [],
   "source": [
    "# Strings Examples\n"
   ]
  },
  {
   "cell_type": "code",
   "execution_count": null,
   "id": "bc762c6c-2b50-441d-8391-054fe8c6b822",
   "metadata": {},
   "outputs": [],
   "source": [
    "# print string\n"
   ]
  },
  {
   "cell_type": "markdown",
   "id": "c19b2cea-2cf2-4d20-8ba9-b709ce35fa86",
   "metadata": {},
   "source": [
    "## basic for loops"
   ]
  },
  {
   "cell_type": "code",
   "execution_count": null,
   "id": "94d45970-99f3-4bc7-a91c-93e6f2d03ff1",
   "metadata": {},
   "outputs": [],
   "source": [
    "# print each character in string\n"
   ]
  },
  {
   "cell_type": "code",
   "execution_count": null,
   "id": "0330d9cf-7dce-4663-86c2-7798596a9b02",
   "metadata": {},
   "outputs": [],
   "source": [
    "dna = \n",
    "# for loop with dna counting bases\n"
   ]
  },
  {
   "cell_type": "markdown",
   "id": "5165425c-9753-4ee1-b804-e9dd62f71bce",
   "metadata": {},
   "source": [
    "# Lists"
   ]
  },
  {
   "cell_type": "code",
   "execution_count": null,
   "id": "6be20a9a-b3d9-4782-aede-08863d669417",
   "metadata": {},
   "outputs": [],
   "source": [
    "# list example\n"
   ]
  },
  {
   "cell_type": "code",
   "execution_count": null,
   "id": "fdf39249-d1b1-44c6-a97d-7b071e93aeeb",
   "metadata": {},
   "outputs": [],
   "source": [
    "# print each element in the list"
   ]
  },
  {
   "cell_type": "code",
   "execution_count": null,
   "id": "e8980314-c298-4d27-8c28-0318b3214ce2",
   "metadata": {},
   "outputs": [],
   "source": [
    "# ordered list enumerate\n"
   ]
  },
  {
   "cell_type": "code",
   "execution_count": null,
   "id": "193315d3-f587-49ec-83c9-5d48de43c70c",
   "metadata": {},
   "outputs": [],
   "source": [
    "# another list\n",
    "\n"
   ]
  },
  {
   "cell_type": "code",
   "execution_count": null,
   "id": "604e48aa-1eee-4ce8-8b4f-d2a63dd5610a",
   "metadata": {},
   "outputs": [],
   "source": [
    "# add lists\n"
   ]
  },
  {
   "cell_type": "code",
   "execution_count": null,
   "id": "c6aaa5ad-e14b-4ac2-8d3c-7dd3aa0c4bd4",
   "metadata": {},
   "outputs": [],
   "source": [
    "# dictionaries\n",
    "# key value pair\n",
    "# create a dictionary\n"
   ]
  },
  {
   "cell_type": "code",
   "execution_count": null,
   "id": "0af165e0-507a-462a-be40-f877c09022d8",
   "metadata": {},
   "outputs": [],
   "source": [
    "# create dictionary using animals and babies list in for loop\n",
    "animal_dict = "
   ]
  },
  {
   "cell_type": "code",
   "execution_count": null,
   "id": "17fe583b-2eff-41c6-b21b-f22fc9184a2d",
   "metadata": {},
   "outputs": [],
   "source": []
  }
 ],
 "metadata": {
  "kernelspec": {
   "display_name": "Python 3",
   "language": "python",
   "name": "python3"
  },
  "language_info": {
   "codemirror_mode": {
    "name": "ipython",
    "version": 3
   },
   "file_extension": ".py",
   "mimetype": "text/x-python",
   "name": "python",
   "nbconvert_exporter": "python",
   "pygments_lexer": "ipython3",
   "version": "3.8.6"
  }
 },
 "nbformat": 4,
 "nbformat_minor": 5
}
