{
 "cells": [
  {
   "cell_type": "markdown",
   "metadata": {},
   "source": [
    "## <font color=\"coral\">Into to Matplotlib/Pyplot/Seaborn</font>\n",
    "\n",
    "#### <font color=\"coral\">In this notebook we'll be looking at the Matplotlib Pyplot and Seaborn libraries for data visualization. This notebook will briefly cover:</font>\n",
    "    \n",
    "- Plotting with Matplotlib\n",
    "- Changing figure aesthetics with \n",
    "    \n",
    "#### <font color=\"coral\"> Notebook usage</font>\n",
    "\n",
    "This notebook is intended to be worked through top-to-bottom, feel free to change what you'd like and experiment with any ideas you have. To advance in the notebook you can click on each cell and hit the \"▶️\" button, or pressing \"Shift-Enter/Return\". Try running the cell below!\n",
    "    "
   ]
  },
  {
   "cell_type": "code",
   "execution_count": null,
   "metadata": {},
   "outputs": [],
   "source": [
    "# Jupyter magic line needed to render nicely in notebook\n",
    "%matplotlib inline\n",
    "\n",
    "import matplotlib as mpl\n",
    "import matplotlib.pyplot as plt\n",
    "import pandas as pd"
   ]
  },
  {
   "cell_type": "markdown",
   "metadata": {},
   "source": [
    "### <font color=\"coral\"> Matplotlib Intuition</font>\n",
    "\n",
    "It's not an understatement to say that [\"Matplotlib is probably the single most used Python package for 2D-graphics\"](https://github.com/rougier/matplotlib-tutorial). Importantly, it provides ways to create both quick-and-dirty and publication-quality figures.\n",
    "\n",
    "Specifically we will use the Pyplot submodule which provides a MATLAB-like interface for plotting. Create your first plot by running the cell below."
   ]
  },
  {
   "cell_type": "code",
   "execution_count": null,
   "metadata": {},
   "outputs": [],
   "source": [
    "z = [1, 2, 3, 4, 5]\n",
    "z_square = [1, 4, 9, 16, 25]\n",
    "z_square_inv = [25, 16, 9, 4, 1]\n",
    "z_log = [0.0, 0.69, 1.1, 1.39, 1.61]\n",
    "z_10s = [1, 10, 100, 1000, 10000]"
   ]
  },
  {
   "cell_type": "code",
   "execution_count": null,
   "metadata": {},
   "outputs": [],
   "source": [
    "# If we provide a single list to plot, matplotlib assumes it is a sequence \n",
    "# of y values, and automatically generates the x values for us\n",
    "plt.plot(z)\n",
    "\n",
    "# Display the current plot\n",
    "plt.show()"
   ]
  },
  {
   "cell_type": "code",
   "execution_count": null,
   "metadata": {},
   "outputs": [],
   "source": [
    "# We can plot x against y if we provide two lists to plot\n",
    "plt.plot(z, z_square)\n",
    "plt.show()"
   ]
  },
  {
   "cell_type": "code",
   "execution_count": null,
   "metadata": {},
   "outputs": [],
   "source": [
    "# Calling plotting functions multiple times will layer plots\n",
    "plt.plot(z)\n",
    "plt.plot(z_log)\n",
    "plt.show()"
   ]
  },
  {
   "cell_type": "code",
   "execution_count": null,
   "metadata": {},
   "outputs": [],
   "source": [
    "# We can change the style of curve or add markers\n",
    "...\n",
    "plt.show()"
   ]
  },
  {
   "cell_type": "code",
   "execution_count": null,
   "metadata": {},
   "outputs": [],
   "source": [
    "# We can set the color using a hexidecimal color code or a named color\n",
    "...\n",
    "plt.show()"
   ]
  },
  {
   "cell_type": "code",
   "execution_count": null,
   "metadata": {},
   "outputs": [],
   "source": [
    "# We can create subplots part of the same figure\n",
    "# plt.subplots returns both the figure and an array of all the individual axes\n",
    "...\n",
    "\n",
    "# Plots on the left subplot\n",
    "...\n",
    "\n",
    "# Plots on the right subplot\n",
    "...\n",
    "\n",
    "# Diplays the entire figure\n",
    "fig.show()"
   ]
  },
  {
   "cell_type": "code",
   "execution_count": null,
   "metadata": {},
   "outputs": [],
   "source": [
    "# We can label curves and move the legend\n",
    "fig, axes = plt.subplots(ncols=2)\n",
    "\n",
    "...\n",
    "\n",
    "fig.show()"
   ]
  },
  {
   "cell_type": "code",
   "execution_count": null,
   "metadata": {},
   "outputs": [],
   "source": [
    "# We can change the scale or plot a semilog graph directly\n",
    "fig, axes = plt.subplots(nrows=3, ncols=2)\n",
    "\n",
    "# First row, semilogx\n",
    "...\n",
    "\n",
    "# Second row, semilogy\n",
    "...\n",
    "\n",
    "# Third row, loglog\n",
    "...\n",
    "\n",
    "# Pads space between subplots\n",
    "...\n",
    "fig.show()"
   ]
  },
  {
   "cell_type": "code",
   "execution_count": null,
   "metadata": {},
   "outputs": [],
   "source": [
    "# We can customize most aesthetics of the figure\n",
    "fig, ax = plt.subplots()\n",
    "ax.plot(z, z_log, color='coral')\n",
    "\n",
    "# Hide top and right borders\n",
    "...\n",
    "\n",
    "# Annotate the graph\n",
    "...\n",
    "\n",
    "fig.show()"
   ]
  },
  {
   "cell_type": "markdown",
   "metadata": {},
   "source": [
    "There are lots of other types of useful plots! Check out the [matplotlib gallery](https://matplotlib.org/stable/gallery/index.html) for **a ton** of detailed examples.\n",
    "\n",
    "- `bar()`: [Make a bar plot](https://matplotlib.org/stable/api/_as_gen/matplotlib.pyplot.bar.html#matplotlib.pyplot.bar).\n",
    "- `boxplot()`: [Make a box and whisker plot](https://matplotlib.org/stable/api/_as_gen/matplotlib.pyplot.boxplot.html#matplotlib.pyplot.boxplot).\n",
    "- `pie()`: [Plot a pie chart](https://matplotlib.org/stable/api/_as_gen/matplotlib.pyplot.plot.html#matplotlib.pyplot.plot).\n",
    "- `plot()`: [Plot y versus x as lines and or markers](https://matplotlib.org/stable/api/_as_gen/matplotlib.pyplot.plot.html#matplotlib.pyplot.plot).\n",
    "- `scatter()`: [A scatter plot of y vs x](https://matplotlib.org/stable/api/_as_gen/matplotlib.pyplot.scatter.html#matplotlib.pyplot.scatter).\n",
    "\n",
    "In the above examples we used lists for simplicity, but matplotlib uses numpy `arrays` internally. This means we can pass numpy `arrays` or Pandas `DataFrames` as arguments to any of the plotting functions."
   ]
  },
  {
   "cell_type": "markdown",
   "metadata": {},
   "source": [
    "#### <font color=\"coral\"> Aside on seaborn </font>\n",
    "\n",
    "Seaborn is a Python data visualization library built on top of matplotlib. It's often used for it's R/ggplot-esque aesthetics. \n",
    "\n",
    "The functions in Seaborn are functions are tailored towards statistics and play much nicer with Pandas data frames. A full API reference can be found [here](https://seaborn.pydata.org/api.html). "
   ]
  },
  {
   "cell_type": "code",
   "execution_count": null,
   "metadata": {},
   "outputs": [],
   "source": [
    "import seaborn as sns\n",
    "\n",
    "# Configure seaborn as the default for plotting.\n",
    "sns.set()\n",
    "\n",
    "# Jupyter magic line needed to render nicely in notebook\n",
    "%matplotlib inline\n",
    "\n",
    "fig, ax = plt.subplots()\n",
    "ax.plot(z, z_square)\n",
    "fig.show()"
   ]
  },
  {
   "cell_type": "code",
   "execution_count": null,
   "metadata": {},
   "outputs": [],
   "source": [
    "sns.set_style('white')\n",
    "\n",
    "fig, ax = plt.subplots()\n",
    "ax.plot(z, z_square)\n",
    "ax.plot(z, z_square_inv)\n",
    "ax.plot(z, z_log)\n",
    "fig.show()"
   ]
  },
  {
   "cell_type": "markdown",
   "metadata": {},
   "source": [
    "## <font color=\"coral\"> Exploratory Data Analysis with Pandas and Matplotlib"
   ]
  },
  {
   "cell_type": "markdown",
   "metadata": {},
   "source": [
    "Visualization is a major tool for exploratory data analysis. We can use visualizations both to help us answer questions about our data and uncover new questions to answer.\n",
    "\n",
    "#### <font color=\"coral\"> Our practice data </font>\n",
    "\n",
    "The data we will be using is volcano eruption and event data, provided publicity by [RforDataScience](https://github.com/rfordatascience/tidytuesday/blob/master/data/2020/2020-05-12/).\n",
    "\n",
    "Let's look at the data now!"
   ]
  },
  {
   "cell_type": "raw",
   "metadata": {},
   "source": [
    "volcanoes = pd.read_csv('volcano_data/filtered_volcano.csv')\n",
    "events = pd.read_csv('volcano_data/filtered_events.csv')"
   ]
  },
  {
   "cell_type": "markdown",
   "metadata": {},
   "source": [
    "After loading our data, we can remind ourselves the names and data types of each column using the `.info()` method."
   ]
  },
  {
   "cell_type": "code",
   "execution_count": null,
   "metadata": {},
   "outputs": [],
   "source": [
    "..."
   ]
  },
  {
   "cell_type": "code",
   "execution_count": null,
   "metadata": {},
   "outputs": [],
   "source": [
    "..."
   ]
  },
  {
   "cell_type": "markdown",
   "metadata": {},
   "source": [
    "#### <font color=\"coral\">Investigating distribution of volcano elevation by region</font>\n",
    "\n",
    "Suppose we want to understand how the distribution of volcano elevation changes between geographic regions. This is the perfect use case for a box plot!\n",
    "\n",
    "First, let's start off by creating a single box plot for the entire dataset."
   ]
  },
  {
   "cell_type": "code",
   "execution_count": null,
   "metadata": {},
   "outputs": [],
   "source": [
    "# Instead of a list, we can pass in a column from a Pandas DataFrame to Pyplot directly!\n",
    "...\n",
    "\n",
    "# We set axis labels with plt.ylabel and plt.xlabel\n",
    "...\n",
    "\n",
    "# We set the title with plt.title\n",
    "...\n",
    "\n",
    "plt.show()"
   ]
  },
  {
   "cell_type": "markdown",
   "metadata": {},
   "source": [
    "We can use `.describe()` from Pandas to quickly get common statistics."
   ]
  },
  {
   "cell_type": "code",
   "execution_count": null,
   "metadata": {},
   "outputs": [],
   "source": [
    "..."
   ]
  },
  {
   "cell_type": "markdown",
   "metadata": {},
   "source": [
    "So what's going on with the negative elevation volcanoes? Filter the data frame to only include those with negative elevation and inspect the first few rows using `.head()` from Pandas."
   ]
  },
  {
   "cell_type": "code",
   "execution_count": null,
   "metadata": {},
   "outputs": [],
   "source": [
    "..."
   ]
  },
  {
   "cell_type": "markdown",
   "metadata": {},
   "source": [
    "Our dataset includes submarine volcanoes! This is a great example of how creating quick visualizations can help uncover otherwise hard-to-spot details in our dataset by pointing us in the right direction.\n",
    "\n",
    "Now let's move on to creating a separate box plot for each region. Before plotting, we should check how many unique regions there are."
   ]
  },
  {
   "cell_type": "code",
   "execution_count": null,
   "metadata": {},
   "outputs": [],
   "source": [
    "..."
   ]
  },
  {
   "cell_type": "markdown",
   "metadata": {},
   "source": [
    "14 regions might be too many to fit on a single plot. Let's filter our data to only include volcanos in Alaska, Canada and the Western US, and Mexico and Central America."
   ]
  },
  {
   "cell_type": "code",
   "execution_count": null,
   "metadata": {},
   "outputs": [],
   "source": [
    "..."
   ]
  },
  {
   "cell_type": "markdown",
   "metadata": {},
   "source": [
    "Without visualizing, we can use Pandas to estimate the distribution of elevation by region. `.describe()` works on data frames grouped by one or more columns too!"
   ]
  },
  {
   "cell_type": "code",
   "execution_count": null,
   "metadata": {},
   "outputs": [],
   "source": [
    "..."
   ]
  },
  {
   "cell_type": "code",
   "execution_count": null,
   "metadata": {},
   "outputs": [],
   "source": [
    "# Create a grouped boxplot using seaborn\n",
    "fig, ax = plt.subplots()\n",
    "...\n",
    "\n",
    "ax.spines['top'].set_visible(False)\n",
    "ax.spines['right'].set_visible(False)\n",
    "\n",
    "# Rotate x-axis labels by 15 degrees\n",
    "ax.set_xticklabels(ax.get_xticklabels(), rotation=15, ha=\"right\")\n",
    "fig.show()"
   ]
  },
  {
   "cell_type": "markdown",
   "metadata": {},
   "source": [
    "#### <font color=\"coral\"> Investigating correlation between latitude and longitude </font>\n",
    "\n",
    "Suppose we want to understand the relationship between the latitude and longitude of volcanos and whether they are correlated.\n",
    "\n",
    "First let's plot a scatterplot of the latitude and longitude of each volcano colored by its region."
   ]
  },
  {
   "cell_type": "code",
   "execution_count": null,
   "metadata": {},
   "outputs": [],
   "source": [
    "fig, ax = plt.subplots()\n",
    "...\n",
    "\n",
    "ax.spines['top'].set_visible(False)\n",
    "ax.spines['right'].set_visible(False)\n",
    "\n",
    "fig.show()"
   ]
  },
  {
   "cell_type": "code",
   "execution_count": null,
   "metadata": {},
   "outputs": [],
   "source": [
    "# Let's select only the Canadian and Western American volcanoes\n",
    "# and fit a regression line.\n",
    "ca_us_volcanoes = ...\n",
    "\n",
    "fig, ax = plt.subplots()\n",
    "...\n",
    "\n",
    "ax.spines['top'].set_visible(False)\n",
    "ax.spines['right'].set_visible(False)\n",
    "\n",
    "fig.show()"
   ]
  },
  {
   "cell_type": "markdown",
   "metadata": {},
   "source": [
    "#### <font color=\"coral\"> Now it's your turn! </font>\n",
    "\n",
    "What's one question that you have about the data we've loaded here? Are there any types of plots that you want to learn how to use?\n",
    "\n",
    "Use the space below to explore the data and answer your question."
   ]
  },
  {
   "cell_type": "code",
   "execution_count": null,
   "metadata": {},
   "outputs": [],
   "source": []
  }
 ],
 "metadata": {
  "kernelspec": {
   "display_name": "Python 3",
   "language": "python",
   "name": "python3"
  },
  "language_info": {
   "codemirror_mode": {
    "name": "ipython",
    "version": 3
   },
   "file_extension": ".py",
   "mimetype": "text/x-python",
   "name": "python",
   "nbconvert_exporter": "python",
   "pygments_lexer": "ipython3",
   "version": "3.7.0"
  }
 },
 "nbformat": 4,
 "nbformat_minor": 2
}
