{
 "cells": [
  {
   "cell_type": "markdown",
   "id": "11be53f3-5430-4ed9-a994-c028c6240ccd",
   "metadata": {},
   "source": [
    "## <font color=\"coral\">Hi there!\n",
    "\n",
    "This notebook is intended for anyone new to coding, Python, or using Jupyter Notebooks. You're looking at a Jupyter Notebook right now. Follow along through each \"cell\" of the notebook going from top to bottom. \n",
    "\n",
    "This is far from a comprehensive review of either Python or Jupyter and is meant as the briefest of intros to data types, functions, and classes. Notably, this notebook does not cover \"for loops\" or \"if statements\", which are both essential to coding but can be learned in time.\n",
    "    \n",
    "Expected time to complete the notebook is ~10 minutes, but could be longer or shorter depending on one's own pace. \n",
    "    \n",
    "### A few other great resources for learning Python:\n",
    "- (For Scientists especially): Chapter 2 of these [SciPy lectures](https://scipy-lectures.org/_downloads/ScipyLectures-simple.pdf) is a fantastic, in-depth place to start, especially if you want to start using Python in a scientific or engineering setting. \n",
    "    \n",
    "- [RealPython](https://realpython.com/) has fantastic tutorials from the most basic to most advanced aspects of the Python language\n",
    "    \n",
    "- The Official Python [Beginner's Guide](https://wiki.python.org/moin/BeginnersGuide/Programmers)"
   ]
  },
  {
   "cell_type": "markdown",
   "id": "45819f3f-8399-4db4-8968-b21640322865",
   "metadata": {},
   "source": [
    "### <font color=\"coral\">How to use this notebook\n",
    "\n",
    "Each cell can be \"Run\", meaning the code inside cell is executed, by clicking on the cell and hitting the \"▶️\" button towards the top of the page. You can also run each cell by hitting \"Shift-Return/Enter\" simoultaneously.\n",
    "\n",
    "Try it! Run the cell below, and you should see a message printed underneath. (Try changing the message that is printed if you are interested.)"
   ]
  },
  {
   "cell_type": "code",
   "execution_count": 33,
   "id": "3a9b0fa8-b087-46f8-b33d-47d6b3e2051d",
   "metadata": {},
   "outputs": [
    {
     "name": "stdout",
     "output_type": "stream",
     "text": [
      "Hello world!\n"
     ]
    }
   ],
   "source": [
    "message = \"Hello world!\"\n",
    "print(message)"
   ]
  },
  {
   "cell_type": "markdown",
   "id": "80689d41-f2f2-43a1-86d9-a7346c6ede43",
   "metadata": {},
   "source": [
    "### <font color=\"coral\">Let's get started!</font>\n",
    "\n",
    "Each cell will either be text, code, or a combination of each. If you see a line that begins with the '#' character, this line is called a comment and purely meant to be informative, it does not affect the code. "
   ]
  },
  {
   "cell_type": "markdown",
   "id": "b8ecccf3-656a-4c50-9704-6353de48ac5c",
   "metadata": {},
   "source": [
    "### Variables in Python\n",
    "\n",
    "The code in the previous cell was Python, a widely popular programming language used across academia and industry. \n",
    "\n",
    "A lot of programming/coding can be boiled down to accessing data, manipulating or observing it, and then saving it someplace else. Along those lines, let's look at the variety of data types we can use in Python, along with some common use cases.\n",
    "\n",
    "Variables are declared in the following way:\n",
    "```\n",
    "variable_name = (some form of data)\n",
    "```\n",
    "The variable name can be almost anything, and the type of data is determined by whatever is on the right hand side of the '=' symbol. "
   ]
  },
  {
   "cell_type": "markdown",
   "id": "f4bac427-4b81-4b19-9cb8-6b8a4998dc88",
   "metadata": {},
   "source": [
    "#### <font color=\"Coral\"> Ints\n",
    "    \n",
    "Ints (short for integers) are how numbers without a decimal place are represented in python.\n",
    "    \n",
    "You can do math on ints, adding, subtracting, multiplying, dividing and more:"
   ]
  },
  {
   "cell_type": "code",
   "execution_count": 42,
   "id": "9eb2a2f2-54ef-4eb4-93da-4286f0f792a8",
   "metadata": {},
   "outputs": [
    {
     "name": "stdout",
     "output_type": "stream",
     "text": [
      "Here is x: 8\n",
      "Here is y: 2\n",
      "Here is x + y: 10\n",
      "Here is x - y: 6\n",
      "Here is x / y: 4.0\n"
     ]
    }
   ],
   "source": [
    "# This is how you declare an integer, \"int\" for short\n",
    "x = 8\n",
    "y = 2\n",
    "\n",
    "# You can print ints to the screen\n",
    "print(\"Here is x:\", x)\n",
    "print(\"Here is y:\", y)\n",
    "\n",
    "# You can add two ints \n",
    "sum_xy = x + y\n",
    "print(\"Here is x + y:\", sum_xy)\n",
    "\n",
    "# You can subtract two ints \n",
    "sub_xy = x - y\n",
    "print(\"Here is x - y:\", sub_xy)\n",
    "\n",
    "# You can divide '/', the result is a float (explained in next cell)\n",
    "div_xy = x / y\n",
    "print(\"Here is x / y:\", div_xy)\n",
    "\n",
    "\n",
    "#### Your turn! Multiply two ints using the '*' symbol, and print them to the screen: ####\n"
   ]
  },
  {
   "cell_type": "markdown",
   "id": "a4fc7c48-d692-4855-8fb7-d60a9b254e27",
   "metadata": {},
   "source": [
    "### <font color=\"coral\"> Floats\n",
    "    \n",
    "Floats are quite similar to ints, except they contain a decimal place."
   ]
  },
  {
   "cell_type": "code",
   "execution_count": 35,
   "id": "56e96ed0-b946-495b-b579-03c4e4e8f943",
   "metadata": {},
   "outputs": [
    {
     "name": "stdout",
     "output_type": "stream",
     "text": [
      "Add: 3.0\n",
      "Subtract: 2.0\n",
      "Divide: 5.0\n",
      "Multiply: 1.25\n"
     ]
    }
   ],
   "source": [
    "# Floats are declared with decimal points\n",
    "a = 2.5\n",
    "b = .5\n",
    "\n",
    "# The same operations can be performed!\n",
    "print(\"Add:\", a + b)\n",
    "print(\"Subtract:\", a - b)\n",
    "print(\"Divide:\", a / b)\n",
    "print(\"Multiply:\", a * b)"
   ]
  },
  {
   "cell_type": "markdown",
   "id": "19f054b8-8be8-48ef-b227-2365e68d61b2",
   "metadata": {},
   "source": [
    "### <font color=\"coral\"> Strings \n",
    "    \n",
    "On to our next variable, a string stores text data. You've already seen some strings printed out in this notebook, now let's store them in variables."
   ]
  },
  {
   "cell_type": "code",
   "execution_count": 36,
   "id": "a73fbc98-e095-4a8b-9aca-9a7482e3ff58",
   "metadata": {},
   "outputs": [
    {
     "name": "stdout",
     "output_type": "stream",
     "text": [
      "Delilah\n",
      "Length of name: 7\n",
      "Hey there Delilah\n",
      "DELILAH delilah\n",
      "DeXiXah\n",
      "D\n",
      "Del\n"
     ]
    }
   ],
   "source": [
    "# strings are written using \"\" or ''\n",
    "name = \"Delilah\"\n",
    "print(name)\n",
    "\n",
    "# strings have a length\n",
    "print(\"Length of name:\", len(name))\n",
    "\n",
    "# strings can be added together, add 'Hey there ' to the front of 'Delilah'\n",
    "song = \"Hey there \"\n",
    "print(song + name)\n",
    "\n",
    "# strings can be made all uppercase or lowercase:\n",
    "print(name.upper(), name.lower())\n",
    "\n",
    "# sub-sequences can be \"replaced\", here we replace both 'l' characters with Xs\n",
    "altered_name = name.replace(\"l\", \"X\")\n",
    "print(altered_name)\n",
    "\n",
    "# You can access specific characters or sequences of a string using [] notation\n",
    "\n",
    "# print the first letter of name, \"D\" in \"Delilah\" (start counting from 0, not 1)\n",
    "print(name[0])\n",
    "\n",
    "# print the first 3 letters in \"Delilah\" syntax is [start index :stop index + 1]\n",
    "print(name[0:3])"
   ]
  },
  {
   "cell_type": "markdown",
   "id": "f59dbcdd-e210-47bb-9bac-1e8b85c791e5",
   "metadata": {},
   "source": [
    "### <font color=\"coral\"> Lists \n",
    "    \n",
    "On to our next object, a List stores many pieces of data (variables) together. It can store any type of variable, and be accessed similary to the letters of a string."
   ]
  },
  {
   "cell_type": "code",
   "execution_count": 37,
   "id": "4d87a795-9ca4-4058-b17c-f9fa3679999d",
   "metadata": {},
   "outputs": [
    {
     "name": "stdout",
     "output_type": "stream",
     "text": [
      "Length of list: 3\n",
      "First value: 14\n",
      "Last value in list: Delilah\n",
      "Sum of all numbers in list: 15\n",
      "[14, 19, 'Delilah', 134]\n"
     ]
    }
   ],
   "source": [
    "# Here is a list\n",
    "lst = [14, 19, \"Delilah\"]\n",
    "\n",
    "# Can get length\n",
    "print(\"Length of list:\", len(lst))\n",
    "\n",
    "# Get first value in list \n",
    "print(\"First value:\", lst[0])\n",
    "\n",
    "# Get last value in list\n",
    "last_val = lst[-1]\n",
    "print(\"Last value in list:\", last_val)\n",
    "\n",
    "# If lists contain all ints or doubles, they can be summed!\n",
    "numbers = [1, 2, 3, 4, 5]\n",
    "print(\"Sum of all numbers in list:\", sum(numbers))\n",
    "\n",
    "# You can add new elements to a list using \"append\"\n",
    "lst.append(134)\n",
    "print(lst)"
   ]
  },
  {
   "cell_type": "markdown",
   "id": "36ec7ae7-59fb-4a36-a885-b11d9fe89362",
   "metadata": {},
   "source": [
    "### <font color=\"coral\"> Functions\n",
    "    \n",
    "The \"sum\" we just saw was our first example of a function. Just like a function in math, functions in Python help up manipulate data, oftentimes accepting inputs and returning values. \n",
    "    \n",
    "Inputs to functions are oftentimes called \"arguments\" or \"parameters\" based on the context.\n",
    "    \n",
    "Function templates look like:\n",
    "```\n",
    "def function_name(argument1, argument2, ...):\n",
    "    # body of function where manipulations occur\n",
    "```\n",
    "    \n",
    "Let's look at a few short functions below:"
   ]
  },
  {
   "cell_type": "code",
   "execution_count": 38,
   "id": "e2eeb8d9-5cd0-4de7-832e-5f591d6f362d",
   "metadata": {},
   "outputs": [
    {
     "name": "stdout",
     "output_type": "stream",
     "text": [
      "Function result: 4\n",
      "Function result: None\n"
     ]
    }
   ],
   "source": [
    "# first function accepts and adds two arguments\n",
    "def add(x, y):\n",
    "    return x + y\n",
    "\n",
    "# let's test it out\n",
    "a = 1\n",
    "b = 3\n",
    "print(\"Function result:\", add(a, b))\n",
    "\n",
    "# Your turn, define a \"multiply\" function in the same form. Replace \"pass\" with your code.\n",
    "def multiply(x, y):\n",
    "    pass\n",
    "\n",
    "print(\"Function result:\", multiply(a, b))\n",
    "    "
   ]
  },
  {
   "cell_type": "markdown",
   "id": "2e4673d6-56c0-4f62-a503-98cf66340b7e",
   "metadata": {},
   "source": [
    "### <font color=\"Coral\"> Errors, when things go wrong\n",
    "    \n",
    "Everyone who codes spends more time than they'd like dealing with errors. Here is the first intentional one in the notebook, it's saying that adding an \"int\" and a \"string\" doesn't make sense and shouldn't be allowed. "
   ]
  },
  {
   "cell_type": "code",
   "execution_count": 39,
   "id": "0108499c-0921-494d-897e-b90f02ba7be9",
   "metadata": {},
   "outputs": [
    {
     "ename": "TypeError",
     "evalue": "unsupported operand type(s) for +: 'int' and 'str'",
     "output_type": "error",
     "traceback": [
      "\u001b[0;31m---------------------------------------------------------------------------\u001b[0m",
      "\u001b[0;31mTypeError\u001b[0m                                 Traceback (most recent call last)",
      "\u001b[0;32m<ipython-input-39-359bae77032d>\u001b[0m in \u001b[0;36m<module>\u001b[0;34m\u001b[0m\n\u001b[1;32m      2\u001b[0m \u001b[0ma\u001b[0m \u001b[0;34m=\u001b[0m \u001b[0;36m1\u001b[0m\u001b[0;34m\u001b[0m\u001b[0;34m\u001b[0m\u001b[0m\n\u001b[1;32m      3\u001b[0m \u001b[0mname\u001b[0m \u001b[0;34m=\u001b[0m \u001b[0;34m\"Delilah\"\u001b[0m\u001b[0;34m\u001b[0m\u001b[0;34m\u001b[0m\u001b[0m\n\u001b[0;32m----> 4\u001b[0;31m \u001b[0mprint\u001b[0m\u001b[0;34m(\u001b[0m\u001b[0;34m\"Result of adding 1 and 'Delilah'\"\u001b[0m\u001b[0;34m,\u001b[0m \u001b[0madd\u001b[0m\u001b[0;34m(\u001b[0m\u001b[0ma\u001b[0m\u001b[0;34m,\u001b[0m \u001b[0mname\u001b[0m\u001b[0;34m)\u001b[0m\u001b[0;34m)\u001b[0m\u001b[0;34m\u001b[0m\u001b[0;34m\u001b[0m\u001b[0m\n\u001b[0m",
      "\u001b[0;32m<ipython-input-38-958753540be1>\u001b[0m in \u001b[0;36madd\u001b[0;34m(x, y)\u001b[0m\n\u001b[1;32m      1\u001b[0m \u001b[0;31m# first function accepts and adds two arguments\u001b[0m\u001b[0;34m\u001b[0m\u001b[0;34m\u001b[0m\u001b[0;34m\u001b[0m\u001b[0m\n\u001b[1;32m      2\u001b[0m \u001b[0;32mdef\u001b[0m \u001b[0madd\u001b[0m\u001b[0;34m(\u001b[0m\u001b[0mx\u001b[0m\u001b[0;34m,\u001b[0m \u001b[0my\u001b[0m\u001b[0;34m)\u001b[0m\u001b[0;34m:\u001b[0m\u001b[0;34m\u001b[0m\u001b[0;34m\u001b[0m\u001b[0m\n\u001b[0;32m----> 3\u001b[0;31m     \u001b[0;32mreturn\u001b[0m \u001b[0mx\u001b[0m \u001b[0;34m+\u001b[0m \u001b[0my\u001b[0m\u001b[0;34m\u001b[0m\u001b[0;34m\u001b[0m\u001b[0m\n\u001b[0m\u001b[1;32m      4\u001b[0m \u001b[0;34m\u001b[0m\u001b[0m\n\u001b[1;32m      5\u001b[0m \u001b[0;31m# let's test it out\u001b[0m\u001b[0;34m\u001b[0m\u001b[0;34m\u001b[0m\u001b[0;34m\u001b[0m\u001b[0m\n",
      "\u001b[0;31mTypeError\u001b[0m: unsupported operand type(s) for +: 'int' and 'str'"
     ]
    }
   ],
   "source": [
    "# this should throw an error, specifically a \"TypeError\"\n",
    "a = 1\n",
    "name = \"Delilah\"\n",
    "print(\"Result of adding 1 and 'Delilah'\", add(a, name))"
   ]
  },
  {
   "cell_type": "markdown",
   "id": "d2adc561-37b0-47c6-85c9-a31af511ac35",
   "metadata": {},
   "source": [
    "### <font color=\"Coral\"> Combining Functions and Data: Classes\n",
    "    \n",
    "A class is an object that can store both data in the form of variables and processes in the form of functions. \n",
    "    \n",
    "Although writing classes of your own is great practice, when beginning to code you'll most often use classes that other people have written. \n",
    "    \n",
    "First you'll see the definition of a short class, and then see how that class might be used. This `AttendanceSheet` class keeps track of students who arrive for attendance, and also stores the teacher of the class the students are attending. You could imagine an educator using a class like this to take rollcall. "
   ]
  },
  {
   "cell_type": "code",
   "execution_count": 40,
   "id": "c57c3885-4511-4eba-a0a0-180e68bb9cf0",
   "metadata": {},
   "outputs": [],
   "source": [
    "class AttendanceSheet():\n",
    "    \n",
    "    # This method (a class function) runs when the class is first made\n",
    "    def __init__(self, teacher): \n",
    "        print(\"New ledger class created.\")\n",
    "        \n",
    "        # this is a class variable, a list intended to store students\n",
    "        self.students = [] \n",
    "        \n",
    "        # this is the name of the teacher who is keeping the ledger,\n",
    "        # passed in as a variable\n",
    "        self.teacher = teacher \n",
    "        \n",
    "        \n",
    "    def add_student(self, student):\n",
    "        \"\"\"\n",
    "        This is another type of comment. This function\n",
    "        will take the \"student\", passed in as an argument, \n",
    "        and append it to the class's list\n",
    "        \"\"\"\n",
    "        self.students.append(student)\n",
    "        print(\"Successfully added student, number of students now:\", self.attendance_size())\n",
    "        \n",
    "        \n",
    "    def attendance_size(self):\n",
    "        \"\"\"\n",
    "        This function returns the number of students who are tracked on the\n",
    "        attendance sheet. \n",
    "        \"\"\"\n",
    "        return len(self.students)\n",
    "        \n",
    "        "
   ]
  },
  {
   "cell_type": "markdown",
   "id": "a38e9737-4355-4bfb-b0e7-08b980b4b980",
   "metadata": {},
   "source": [
    "#### Now, let's look at some code that uses the AttendanceSheet class"
   ]
  },
  {
   "cell_type": "code",
   "execution_count": 41,
   "id": "a78ae13d-cb43-4cb8-b0c7-055cf676b7ec",
   "metadata": {},
   "outputs": [
    {
     "name": "stdout",
     "output_type": "stream",
     "text": [
      "New ledger class created.\n",
      "Current teacher: Dr. Baker\n",
      "Number of students: 0\n",
      "----\n",
      "\n",
      "Successfully added student, number of students now: 1\n",
      "Successfully added student, number of students now: 2\n",
      "Successfully added student, number of students now: 3\n",
      "Students in class: ['Carson', 'Dylan', 'Delilah']\n",
      "----\n",
      "\n",
      "New ledger class created.\n",
      "Number of students in new class: 0\n"
     ]
    }
   ],
   "source": [
    "# You store a class as a variable\n",
    "sheet = AttendanceSheet(\"Dr. Baker\")\n",
    "\n",
    "# let's see the data stored in the class\n",
    "print(\"Current teacher:\", sheet.teacher)\n",
    "print(\"Number of students:\", sheet.attendance_size())\n",
    "print('----\\n') # this line just for formatting\n",
    "\n",
    "# we can add a students to the class\n",
    "sheet.add_student(\"Carson\")\n",
    "sheet.add_student(\"Dylan\")\n",
    "sheet.add_student(\"Delilah\")\n",
    "\n",
    "print(\"Students in class:\", sheet.students)\n",
    "print('----\\n') # this line just for formatting\n",
    "\n",
    "# Importantly, a new class does not have the same data stored.\n",
    "# It is a instance of the same class.\n",
    "\n",
    "new_sheet = AttendanceSheet(\"Dr. Baker\")\n",
    "print(\"Number of students in new class:\", new_sheet.attendance_size())"
   ]
  },
  {
   "cell_type": "markdown",
   "id": "41b96221-eb37-4078-a971-fc3ea995a690",
   "metadata": {},
   "source": [
    "#### <font color=\"coral\">That's all for now! \n",
    "    \n",
    "Best of luck in your coding journey. Here are those additional resources one more time:\n",
    "- (For Scientists especially): Chapter 2 of these [SciPy lectures](https://scipy-lectures.org/_downloads/ScipyLectures-simple.pdf) is a fantastic, in-depth place to start, especially if you want to start using Python in a scientific or engineering setting. \n",
    "    \n",
    "- [RealPython](https://realpython.com/) has fantastic tutorials from the most basic to most advanced aspects of the Python language\n",
    "    \n",
    "- The Official Python [Beginner's Guide](https://wiki.python.org/moin/BeginnersGuide/Programmers)"
   ]
  },
  {
   "cell_type": "code",
   "execution_count": null,
   "id": "b2d594a2-a2fe-48b7-952e-8287486ba9c7",
   "metadata": {},
   "outputs": [],
   "source": []
  }
 ],
 "metadata": {
  "kernelspec": {
   "display_name": "Python 3",
   "language": "python",
   "name": "python3"
  },
  "language_info": {
   "codemirror_mode": {
    "name": "ipython",
    "version": 3
   },
   "file_extension": ".py",
   "mimetype": "text/x-python",
   "name": "python",
   "nbconvert_exporter": "python",
   "pygments_lexer": "ipython3",
   "version": "3.8.10"
  }
 },
 "nbformat": 4,
 "nbformat_minor": 5
}
