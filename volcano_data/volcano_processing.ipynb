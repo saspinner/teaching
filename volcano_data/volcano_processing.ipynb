{
 "cells": [
  {
   "cell_type": "code",
   "execution_count": 31,
   "id": "2ec58fe2-9e72-4fa1-ab90-f763725d7a88",
   "metadata": {},
   "outputs": [],
   "source": [
    "import pandas as pd\n",
    "import numpy as np\n",
    "import matplotlib.pyplot as plt"
   ]
  },
  {
   "cell_type": "code",
   "execution_count": 42,
   "id": "c61a5f11-355f-451a-898b-2aa6700ebc43",
   "metadata": {},
   "outputs": [],
   "source": [
    "url = \"https://github.com/rfordatascience/tidytuesday/blob/master/data/2020/2020-05-12/\"\n",
    "volcano = pd.read_csv(url + \"volcano.csv\" + \"?raw=True\")\n",
    "events = pd.read_csv(url + \"events.csv\" + \"?raw=True\")"
   ]
  },
  {
   "cell_type": "code",
   "execution_count": 65,
   "id": "5d634295-64ad-4fb0-b737-e97a1b4ad543",
   "metadata": {},
   "outputs": [],
   "source": [
    "filtered_volcano = volcano.drop(columns=[key for key in volcano.keys() \n",
    "                                         if \"_rock_\" in key and key != \"major_rock_1\"])\n",
    "filtered_events = events[events.eruption_start_year > 1900]"
   ]
  },
  {
   "cell_type": "code",
   "execution_count": 66,
   "id": "d3cbd511-e4cd-44f8-9622-a92ed3e319e6",
   "metadata": {},
   "outputs": [
    {
     "data": {
      "text/plain": [
       "(19204, 10)"
      ]
     },
     "execution_count": 66,
     "metadata": {},
     "output_type": "execute_result"
    }
   ],
   "source": [
    "filtered_events.shape"
   ]
  },
  {
   "cell_type": "code",
   "execution_count": 67,
   "id": "b048acc3-7c36-45be-8c6b-c4d5fb3b03af",
   "metadata": {},
   "outputs": [
    {
     "data": {
      "text/plain": [
       "(958, 17)"
      ]
     },
     "execution_count": 67,
     "metadata": {},
     "output_type": "execute_result"
    }
   ],
   "source": [
    "filtered_volcano.shape"
   ]
  },
  {
   "cell_type": "code",
   "execution_count": 63,
   "id": "141256c2-5756-4969-bf4b-dd336a10f157",
   "metadata": {},
   "outputs": [
    {
     "name": "stdout",
     "output_type": "stream",
     "text": [
      "Events that have matching volcanoes: 0.77\n",
      "Volcanoes with matching events: 0.16\n"
     ]
    }
   ],
   "source": [
    "# Let's make there is good event-volcano overlap\n",
    "volc_event_matches = filtered_volcano[filtered_volcano.volcano_number.isin(filtered_events.volcano_number)]\n",
    "event_volc_matches = filtered_events[filtered_events.volcano_number.isin(filtered_volcano.volcano_number)]\n",
    "pct_vem = volc_event_matches.shape[0] / filtered_volcano.shape[0]\n",
    "pct_evm = event_volc_matches.shape[0] / filtered_events.shape[0]\n",
    "\n",
    "print(\"Events that have matching volcanoes:\", round(pct_evm, 2)) \n",
    "print(\"Volcanoes with matching events:\", round(pct_vem, 2))                                                                                                                                                                            "
   ]
  },
  {
   "cell_type": "code",
   "execution_count": null,
   "id": "d8ddfc69-ddc1-4e5b-b223-f798d20db073",
   "metadata": {},
   "outputs": [],
   "source": []
  }
 ],
 "metadata": {
  "kernelspec": {
   "display_name": "Python 3",
   "language": "python",
   "name": "python3"
  },
  "language_info": {
   "codemirror_mode": {
    "name": "ipython",
    "version": 3
   },
   "file_extension": ".py",
   "mimetype": "text/x-python",
   "name": "python",
   "nbconvert_exporter": "python",
   "pygments_lexer": "ipython3",
   "version": "3.8.10"
  }
 },
 "nbformat": 4,
 "nbformat_minor": 5
}
